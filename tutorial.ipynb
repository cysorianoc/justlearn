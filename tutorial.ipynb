{
  "nbformat": 4,
  "nbformat_minor": 0,
  "metadata": {
    "colab": {
      "provenance": [],
      "authorship_tag": "ABX9TyPIvBmd3CDfk5eYZjFZcORp",
      "include_colab_link": true
    },
    "kernelspec": {
      "name": "python3",
      "display_name": "Python 3"
    },
    "language_info": {
      "name": "python"
    }
  },
  "cells": [
    {
      "cell_type": "markdown",
      "metadata": {
        "id": "view-in-github",
        "colab_type": "text"
      },
      "source": [
        "<a href=\"https://colab.research.google.com/github/cysorianoc/justlearn/blob/main/tutorial.ipynb\" target=\"_parent\"><img src=\"https://colab.research.google.com/assets/colab-badge.svg\" alt=\"Open In Colab\"/></a>"
      ]
    },
    {
      "cell_type": "markdown",
      "source": [
        "# Titre du document\n"
      ],
      "metadata": {
        "id": "TgscVBzOgvZF"
      }
    },
    {
      "cell_type": "code",
      "source": [
        "2+2"
      ],
      "metadata": {
        "colab": {
          "base_uri": "https://localhost:8080/"
        },
        "id": "K3YPxiYgg1J4",
        "outputId": "e16be8b5-9532-427b-a1e1-46595e669c73"
      },
      "execution_count": 1,
      "outputs": [
        {
          "output_type": "execute_result",
          "data": {
            "text/plain": [
              "4"
            ]
          },
          "metadata": {},
          "execution_count": 1
        }
      ]
    },
    {
      "cell_type": "code",
      "source": [
        "x=10\n",
        "print(x)"
      ],
      "metadata": {
        "colab": {
          "base_uri": "https://localhost:8080/"
        },
        "id": "AuG13EvUg5Tz",
        "outputId": "4e4dc50e-b92e-41b4-e134-325a7c5a4be0"
      },
      "execution_count": 2,
      "outputs": [
        {
          "output_type": "stream",
          "name": "stdout",
          "text": [
            "10\n"
          ]
        }
      ]
    },
    {
      "cell_type": "markdown",
      "source": [
        "## Petit exemple de completion"
      ],
      "metadata": {
        "id": "0v5dgxBEhYU3"
      }
    },
    {
      "cell_type": "code",
      "source": [
        "import numpy as np\n",
        "mu, sigma=100,15"
      ],
      "metadata": {
        "id": "bqFghUG9hdDC"
      },
      "execution_count": 3,
      "outputs": []
    },
    {
      "cell_type": "markdown",
      "source": [
        "Creation de un liste de nombres aleatoires avec un distribution normale"
      ],
      "metadata": {
        "id": "WvVHomfIh20Y"
      }
    },
    {
      "cell_type": "code",
      "source": [
        "x=np.random.normal(loc=mu, scale=sigma, size=10000)"
      ],
      "metadata": {
        "id": "BYj-9hNrhjGs"
      },
      "execution_count": 4,
      "outputs": []
    },
    {
      "cell_type": "markdown",
      "source": [
        "Utiliser matplotlib"
      ],
      "metadata": {
        "id": "dDix55Abh9QR"
      }
    },
    {
      "cell_type": "code",
      "source": [
        "import matplotlib.pyplot as plt"
      ],
      "metadata": {
        "id": "-r4pUPkQhvyU"
      },
      "execution_count": 5,
      "outputs": []
    },
    {
      "cell_type": "code",
      "source": [
        "plt.hist(x)"
      ],
      "metadata": {
        "colab": {
          "base_uri": "https://localhost:8080/",
          "height": 541
        },
        "id": "bIpsT_IeiGZq",
        "outputId": "e3ac4b67-bd02-44c6-e321-384d37899eac"
      },
      "execution_count": 6,
      "outputs": [
        {
          "output_type": "execute_result",
          "data": {
            "text/plain": [
              "(array([   4.,   73.,  433., 1458., 2815., 2883., 1679.,  537.,  102.,\n",
              "          16.]),\n",
              " array([ 40.01267739,  51.77343734,  63.53419729,  75.29495724,\n",
              "         87.05571718,  98.81647713, 110.57723708, 122.33799702,\n",
              "        134.09875697, 145.85951692, 157.62027686]),\n",
              " <BarContainer object of 10 artists>)"
            ]
          },
          "metadata": {},
          "execution_count": 6
        },
        {
          "output_type": "display_data",
          "data": {
            "text/plain": [
              "<Figure size 640x480 with 1 Axes>"
            ],
            "image/png": "[encoded data removed]"
          },
          "metadata": {}
        }
      ]
    }
  ]
}